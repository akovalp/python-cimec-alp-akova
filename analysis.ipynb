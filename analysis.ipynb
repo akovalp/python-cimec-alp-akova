{
 "cells": [
  {
   "cell_type": "markdown",
   "id": "58f03358",
   "metadata": {},
   "source": [
    "# Aim of the Notebook\n",
    "The dataset thats being used in this notebook has been downloaded from [kaggle.com](https://www.kaggle.com/datasets/benroshan/factors-affecting-campus-placement) Its a dataset that has Placement data of students in a XYZ campus. It includes secondary and higher secondary school percentage and specialization. It also includes degree specialization, type and Work experience and salary offers to the placed students\n",
    "\n",
    "## Goals\n",
    "\n",
    "There are couple of aims of this notebook first: since this is actually a homework asignment it will demonstrate basic understanding of data manipulation, data summarization and plotting using pandas matlab and plotting libraries. Secondly since my work includes training classification and regression models I will be showcasing how couple of different ML models can be deployed to make certain predictions. \n"
   ]
  },
  {
   "cell_type": "code",
   "execution_count": 2,
   "id": "a57dd097",
   "metadata": {},
   "outputs": [
    {
     "data": {
      "application/vnd.microsoft.datawrangler.viewer.v0+json": {
       "columns": [
        {
         "name": "index",
         "rawType": "int64",
         "type": "integer"
        },
        {
         "name": "sl_no",
         "rawType": "int64",
         "type": "integer"
        },
        {
         "name": "gender",
         "rawType": "object",
         "type": "string"
        },
        {
         "name": "ssc_p",
         "rawType": "float64",
         "type": "float"
        },
        {
         "name": "ssc_b",
         "rawType": "object",
         "type": "string"
        },
        {
         "name": "hsc_p",
         "rawType": "float64",
         "type": "float"
        },
        {
         "name": "hsc_b",
         "rawType": "object",
         "type": "string"
        },
        {
         "name": "hsc_s",
         "rawType": "object",
         "type": "string"
        },
        {
         "name": "degree_p",
         "rawType": "float64",
         "type": "float"
        },
        {
         "name": "degree_t",
         "rawType": "object",
         "type": "string"
        },
        {
         "name": "workex",
         "rawType": "object",
         "type": "string"
        },
        {
         "name": "etest_p",
         "rawType": "float64",
         "type": "float"
        },
        {
         "name": "specialisation",
         "rawType": "object",
         "type": "string"
        },
        {
         "name": "mba_p",
         "rawType": "float64",
         "type": "float"
        },
        {
         "name": "status",
         "rawType": "object",
         "type": "string"
        },
        {
         "name": "salary",
         "rawType": "float64",
         "type": "float"
        }
       ],
       "ref": "2499dcb8-0a10-475e-825c-4ca522276465",
       "rows": [
        [
         "0",
         "1",
         "M",
         "67.0",
         "Others",
         "91.0",
         "Others",
         "Commerce",
         "58.0",
         "Sci&Tech",
         "No",
         "55.0",
         "Mkt&HR",
         "58.8",
         "Placed",
         "270000.0"
        ],
        [
         "1",
         "2",
         "M",
         "79.33",
         "Central",
         "78.33",
         "Others",
         "Science",
         "77.48",
         "Sci&Tech",
         "Yes",
         "86.5",
         "Mkt&Fin",
         "66.28",
         "Placed",
         "200000.0"
        ],
        [
         "2",
         "3",
         "M",
         "65.0",
         "Central",
         "68.0",
         "Central",
         "Arts",
         "64.0",
         "Comm&Mgmt",
         "No",
         "75.0",
         "Mkt&Fin",
         "57.8",
         "Placed",
         "250000.0"
        ],
        [
         "3",
         "4",
         "M",
         "56.0",
         "Central",
         "52.0",
         "Central",
         "Science",
         "52.0",
         "Sci&Tech",
         "No",
         "66.0",
         "Mkt&HR",
         "59.43",
         "Not Placed",
         null
        ],
        [
         "4",
         "5",
         "M",
         "85.8",
         "Central",
         "73.6",
         "Central",
         "Commerce",
         "73.3",
         "Comm&Mgmt",
         "No",
         "96.8",
         "Mkt&Fin",
         "55.5",
         "Placed",
         "425000.0"
        ]
       ],
       "shape": {
        "columns": 15,
        "rows": 5
       }
      },
      "text/html": [
       "<div>\n",
       "<style scoped>\n",
       "    .dataframe tbody tr th:only-of-type {\n",
       "        vertical-align: middle;\n",
       "    }\n",
       "\n",
       "    .dataframe tbody tr th {\n",
       "        vertical-align: top;\n",
       "    }\n",
       "\n",
       "    .dataframe thead th {\n",
       "        text-align: right;\n",
       "    }\n",
       "</style>\n",
       "<table border=\"1\" class=\"dataframe\">\n",
       "  <thead>\n",
       "    <tr style=\"text-align: right;\">\n",
       "      <th></th>\n",
       "      <th>sl_no</th>\n",
       "      <th>gender</th>\n",
       "      <th>ssc_p</th>\n",
       "      <th>ssc_b</th>\n",
       "      <th>hsc_p</th>\n",
       "      <th>hsc_b</th>\n",
       "      <th>hsc_s</th>\n",
       "      <th>degree_p</th>\n",
       "      <th>degree_t</th>\n",
       "      <th>workex</th>\n",
       "      <th>etest_p</th>\n",
       "      <th>specialisation</th>\n",
       "      <th>mba_p</th>\n",
       "      <th>status</th>\n",
       "      <th>salary</th>\n",
       "    </tr>\n",
       "  </thead>\n",
       "  <tbody>\n",
       "    <tr>\n",
       "      <th>0</th>\n",
       "      <td>1</td>\n",
       "      <td>M</td>\n",
       "      <td>67.00</td>\n",
       "      <td>Others</td>\n",
       "      <td>91.00</td>\n",
       "      <td>Others</td>\n",
       "      <td>Commerce</td>\n",
       "      <td>58.00</td>\n",
       "      <td>Sci&amp;Tech</td>\n",
       "      <td>No</td>\n",
       "      <td>55.0</td>\n",
       "      <td>Mkt&amp;HR</td>\n",
       "      <td>58.80</td>\n",
       "      <td>Placed</td>\n",
       "      <td>270000.0</td>\n",
       "    </tr>\n",
       "    <tr>\n",
       "      <th>1</th>\n",
       "      <td>2</td>\n",
       "      <td>M</td>\n",
       "      <td>79.33</td>\n",
       "      <td>Central</td>\n",
       "      <td>78.33</td>\n",
       "      <td>Others</td>\n",
       "      <td>Science</td>\n",
       "      <td>77.48</td>\n",
       "      <td>Sci&amp;Tech</td>\n",
       "      <td>Yes</td>\n",
       "      <td>86.5</td>\n",
       "      <td>Mkt&amp;Fin</td>\n",
       "      <td>66.28</td>\n",
       "      <td>Placed</td>\n",
       "      <td>200000.0</td>\n",
       "    </tr>\n",
       "    <tr>\n",
       "      <th>2</th>\n",
       "      <td>3</td>\n",
       "      <td>M</td>\n",
       "      <td>65.00</td>\n",
       "      <td>Central</td>\n",
       "      <td>68.00</td>\n",
       "      <td>Central</td>\n",
       "      <td>Arts</td>\n",
       "      <td>64.00</td>\n",
       "      <td>Comm&amp;Mgmt</td>\n",
       "      <td>No</td>\n",
       "      <td>75.0</td>\n",
       "      <td>Mkt&amp;Fin</td>\n",
       "      <td>57.80</td>\n",
       "      <td>Placed</td>\n",
       "      <td>250000.0</td>\n",
       "    </tr>\n",
       "    <tr>\n",
       "      <th>3</th>\n",
       "      <td>4</td>\n",
       "      <td>M</td>\n",
       "      <td>56.00</td>\n",
       "      <td>Central</td>\n",
       "      <td>52.00</td>\n",
       "      <td>Central</td>\n",
       "      <td>Science</td>\n",
       "      <td>52.00</td>\n",
       "      <td>Sci&amp;Tech</td>\n",
       "      <td>No</td>\n",
       "      <td>66.0</td>\n",
       "      <td>Mkt&amp;HR</td>\n",
       "      <td>59.43</td>\n",
       "      <td>Not Placed</td>\n",
       "      <td>NaN</td>\n",
       "    </tr>\n",
       "    <tr>\n",
       "      <th>4</th>\n",
       "      <td>5</td>\n",
       "      <td>M</td>\n",
       "      <td>85.80</td>\n",
       "      <td>Central</td>\n",
       "      <td>73.60</td>\n",
       "      <td>Central</td>\n",
       "      <td>Commerce</td>\n",
       "      <td>73.30</td>\n",
       "      <td>Comm&amp;Mgmt</td>\n",
       "      <td>No</td>\n",
       "      <td>96.8</td>\n",
       "      <td>Mkt&amp;Fin</td>\n",
       "      <td>55.50</td>\n",
       "      <td>Placed</td>\n",
       "      <td>425000.0</td>\n",
       "    </tr>\n",
       "  </tbody>\n",
       "</table>\n",
       "</div>"
      ],
      "text/plain": [
       "   sl_no gender  ssc_p    ssc_b  hsc_p    hsc_b     hsc_s  degree_p  \\\n",
       "0      1      M  67.00   Others  91.00   Others  Commerce     58.00   \n",
       "1      2      M  79.33  Central  78.33   Others   Science     77.48   \n",
       "2      3      M  65.00  Central  68.00  Central      Arts     64.00   \n",
       "3      4      M  56.00  Central  52.00  Central   Science     52.00   \n",
       "4      5      M  85.80  Central  73.60  Central  Commerce     73.30   \n",
       "\n",
       "    degree_t workex  etest_p specialisation  mba_p      status    salary  \n",
       "0   Sci&Tech     No     55.0         Mkt&HR  58.80      Placed  270000.0  \n",
       "1   Sci&Tech    Yes     86.5        Mkt&Fin  66.28      Placed  200000.0  \n",
       "2  Comm&Mgmt     No     75.0        Mkt&Fin  57.80      Placed  250000.0  \n",
       "3   Sci&Tech     No     66.0         Mkt&HR  59.43  Not Placed       NaN  \n",
       "4  Comm&Mgmt     No     96.8        Mkt&Fin  55.50      Placed  425000.0  "
      ]
     },
     "execution_count": 2,
     "metadata": {},
     "output_type": "execute_result"
    }
   ],
   "source": [
    "import pandas as pd \n",
    "\n",
    "df = pd.read_csv('Placement_Data_Full_Class.csv')\n",
    "\n",
    "df.head()"
   ]
  },
  {
   "cell_type": "code",
   "execution_count": null,
   "id": "0ca7a7e9",
   "metadata": {},
   "outputs": [],
   "source": []
  }
 ],
 "metadata": {
  "kernelspec": {
   "display_name": "trento1",
   "language": "python",
   "name": "python3"
  },
  "language_info": {
   "codemirror_mode": {
    "name": "ipython",
    "version": 3
   },
   "file_extension": ".py",
   "mimetype": "text/x-python",
   "name": "python",
   "nbconvert_exporter": "python",
   "pygments_lexer": "ipython3",
   "version": "3.11.10"
  }
 },
 "nbformat": 4,
 "nbformat_minor": 5
}
